{
 "cells": [
  {
   "cell_type": "code",
   "execution_count": 141,
   "metadata": {},
   "outputs": [],
   "source": [
    "# Configure Jupyter so figures appear in the notebook\n",
    "%matplotlib inline\n",
    "\n",
    "# Configure Jupyter to display the assigned value after an assignment\n",
    "%config InteractiveShell.ast_node_interactivity='last_expr_or_assign'\n",
    "\n",
    "# import functions from the modsim.py module\n",
    "from modsim import *\n",
    "import math"
   ]
  },
  {
   "cell_type": "code",
   "execution_count": 142,
   "metadata": {},
   "outputs": [
    {
     "data": {
      "text/html": [
       "<div>\n",
       "<style scoped>\n",
       "    .dataframe tbody tr th:only-of-type {\n",
       "        vertical-align: middle;\n",
       "    }\n",
       "\n",
       "    .dataframe tbody tr th {\n",
       "        vertical-align: top;\n",
       "    }\n",
       "\n",
       "    .dataframe thead th {\n",
       "        text-align: right;\n",
       "    }\n",
       "</style>\n",
       "<table border=\"1\" class=\"dataframe\">\n",
       "  <thead>\n",
       "    <tr style=\"text-align: right;\">\n",
       "      <th></th>\n",
       "      <th>values</th>\n",
       "    </tr>\n",
       "  </thead>\n",
       "  <tbody>\n",
       "    <tr>\n",
       "      <th>init</th>\n",
       "      <td>y      0.0\n",
       "v    500.0\n",
       "dtype: float64</td>\n",
       "    </tr>\n",
       "    <tr>\n",
       "      <th>t_0</th>\n",
       "      <td>0</td>\n",
       "    </tr>\n",
       "    <tr>\n",
       "      <th>t_end</th>\n",
       "      <td>6</td>\n",
       "    </tr>\n",
       "    <tr>\n",
       "      <th>dt</th>\n",
       "      <td>0.01</td>\n",
       "    </tr>\n",
       "  </tbody>\n",
       "</table>\n",
       "</div>"
      ],
      "text/plain": [
       "init     y      0.0\n",
       "v    500.0\n",
       "dtype: float64\n",
       "t_0                                         0\n",
       "t_end                                       6\n",
       "dt                                       0.01\n",
       "dtype: object"
      ]
     },
     "execution_count": 142,
     "metadata": {},
     "output_type": "execute_result"
    }
   ],
   "source": [
    "m = UNITS.meter\n",
    "s = UNITS.second\n",
    "\n",
    "g = 9.8 \n",
    "init_z = State(y=100.0 , v=0.0 )\n",
    "init_x = State(y=0.0 , v=500.0 )\n",
    "\n",
    "t_end = 6\n",
    "dt = 0.01\n",
    "\n",
    "system_z = System(init=init_z, g=g,t_0=0 ,t_end=t_end, dt=dt)\n",
    "system_x = System(init=init_x, t_0=0,t_end=t_end, dt=dt)"
   ]
  },
  {
   "cell_type": "code",
   "execution_count": 143,
   "metadata": {},
   "outputs": [],
   "source": [
    "def slope_func_z(state, t, system):\n",
    "    y, v = state\n",
    "    \n",
    "    dydt = v\n",
    "    dvdt = -system.g\n",
    "    \n",
    "    return dydt, dvdt\n",
    "def slope_func_x(state, t, system):\n",
    "    y, v = state\n",
    "    \n",
    "    dydt = v\n",
    "    dvdt = 0.0 \n",
    "    \n",
    "    return dydt, dvdt\n"
   ]
  },
  {
   "cell_type": "code",
   "execution_count": 144,
   "metadata": {},
   "outputs": [],
   "source": [
    "Vz, Az = slope_func_z(system_z.init, 0, system_z)\n",
    "Vx, Ax = slope_func_x(system_x.init, 0, system_x)"
   ]
  },
  {
   "cell_type": "code",
   "execution_count": 145,
   "metadata": {},
   "outputs": [],
   "source": [
    "def Runge_Kutta(state,system,slope_func,t):\n",
    "    y,v=state\n",
    "    dt=system.dt\n",
    "    f0,d0=slope_func(state,t,system)\n",
    "    def fun(t,d0):\n",
    "        fun=t*d0\n",
    "        return fun\n",
    "    k1=fun(t,d0)\n",
    "    k2=fun(t+dt/2,d0+dt*k1/2)\n",
    "    k3=fun(t+dt/2,d0+dt*k2/2)\n",
    "    k4=fun(t+dt,d0+dt*k3)\n",
    "    y1=y+dt/6*(k1+2*k2+2*k3+k4)\n",
    "    def fun1(t,d0):\n",
    "        fun=d0\n",
    "        return fun\n",
    "    k11=fun(t,d0)\n",
    "    k22=fun(t+dt/2,d0+dt*k11/2)\n",
    "    k33=fun(t+dt/2,d0+dt*k22/2)\n",
    "    k44=fun(t+dt,d0+dt*k33)\n",
    "    v1=v+dt/6*(k11+2*k22+2*k33+k44)\n",
    "    \n",
    "    \n",
    "    return State(y=y1 , v=v1)"
   ]
  },
  {
   "cell_type": "code",
   "execution_count": 146,
   "metadata": {},
   "outputs": [],
   "source": [
    "def run_simulation(system, adams,slope_func):\n",
    "    \"\"\"Runs a simulation of the system.\n",
    "    \n",
    "    Add a TimeFrame to the System: results\n",
    "    \n",
    "    system: System object\n",
    "    update_func: function that updates state\n",
    "    \"\"\"\n",
    "    init = system.init\n",
    "    t_0, t_end, dt = system.t_0, system.t_end, system.dt\n",
    "    \n",
    "    frame = TimeFrame(columns=init.index)\n",
    "    frame.row[t_0] = init\n",
    "    ts = linrange(t_0, t_end, dt)\n",
    "    \n",
    "    for t in ts:\n",
    "        frame.row[t+dt] =Runge_Kutta(frame.row[t],system,slope_func,t)\n",
    "    \n",
    "    return frame"
   ]
  },
  {
   "cell_type": "code",
   "execution_count": 147,
   "metadata": {},
   "outputs": [
    {
     "data": {
      "text/html": [
       "<div>\n",
       "<style scoped>\n",
       "    .dataframe tbody tr th:only-of-type {\n",
       "        vertical-align: middle;\n",
       "    }\n",
       "\n",
       "    .dataframe tbody tr th {\n",
       "        vertical-align: top;\n",
       "    }\n",
       "\n",
       "    .dataframe thead th {\n",
       "        text-align: right;\n",
       "    }\n",
       "</style>\n",
       "<table border=\"1\" class=\"dataframe\">\n",
       "  <thead>\n",
       "    <tr style=\"text-align: right;\">\n",
       "      <th></th>\n",
       "      <th>y</th>\n",
       "      <th>v</th>\n",
       "    </tr>\n",
       "  </thead>\n",
       "  <tbody>\n",
       "    <tr>\n",
       "      <th>0.00</th>\n",
       "      <td>100.000000</td>\n",
       "      <td>0.000000</td>\n",
       "    </tr>\n",
       "    <tr>\n",
       "      <th>0.01</th>\n",
       "      <td>99.999510</td>\n",
       "      <td>-0.000490</td>\n",
       "    </tr>\n",
       "    <tr>\n",
       "      <th>0.02</th>\n",
       "      <td>99.998040</td>\n",
       "      <td>-0.001960</td>\n",
       "    </tr>\n",
       "    <tr>\n",
       "      <th>0.03</th>\n",
       "      <td>99.995590</td>\n",
       "      <td>-0.004410</td>\n",
       "    </tr>\n",
       "    <tr>\n",
       "      <th>0.04</th>\n",
       "      <td>99.992159</td>\n",
       "      <td>-0.007841</td>\n",
       "    </tr>\n",
       "    <tr>\n",
       "      <th>...</th>\n",
       "      <td>...</td>\n",
       "      <td>...</td>\n",
       "    </tr>\n",
       "    <tr>\n",
       "      <th>5.96</th>\n",
       "      <td>-77.565884</td>\n",
       "      <td>-177.565884</td>\n",
       "    </tr>\n",
       "    <tr>\n",
       "      <th>5.97</th>\n",
       "      <td>-78.168240</td>\n",
       "      <td>-178.168240</td>\n",
       "    </tr>\n",
       "    <tr>\n",
       "      <th>5.98</th>\n",
       "      <td>-78.771637</td>\n",
       "      <td>-178.771637</td>\n",
       "    </tr>\n",
       "    <tr>\n",
       "      <th>5.99</th>\n",
       "      <td>-79.376075</td>\n",
       "      <td>-179.376075</td>\n",
       "    </tr>\n",
       "    <tr>\n",
       "      <th>6.00</th>\n",
       "      <td>-79.981553</td>\n",
       "      <td>-179.981553</td>\n",
       "    </tr>\n",
       "  </tbody>\n",
       "</table>\n",
       "<p>601 rows × 2 columns</p>\n",
       "</div>"
      ],
      "text/plain": [
       "               y           v\n",
       "0.00  100.000000    0.000000\n",
       "0.01   99.999510   -0.000490\n",
       "0.02   99.998040   -0.001960\n",
       "0.03   99.995590   -0.004410\n",
       "0.04   99.992159   -0.007841\n",
       "...          ...         ...\n",
       "5.96  -77.565884 -177.565884\n",
       "5.97  -78.168240 -178.168240\n",
       "5.98  -78.771637 -178.771637\n",
       "5.99  -79.376075 -179.376075\n",
       "6.00  -79.981553 -179.981553\n",
       "\n",
       "[601 rows x 2 columns]"
      ]
     },
     "execution_count": 147,
     "metadata": {},
     "output_type": "execute_result"
    }
   ],
   "source": [
    "results = run_simulation(system_z, Runge_Kutta,slope_func_z)"
   ]
  },
  {
   "cell_type": "code",
   "execution_count": 148,
   "metadata": {},
   "outputs": [
    {
     "data": {
      "image/png": "[encoded data removed]",
      "text/plain": [
       "<Figure size 432x288 with 1 Axes>"
      ]
     },
     "metadata": {
      "needs_background": "light"
     },
     "output_type": "display_data"
    }
   ],
   "source": [
    "plot(results.y)\n",
    "decorate(xlabel='Time(s)',\n",
    "         ylabel='Height(m)')"
   ]
  },
  {
   "cell_type": "code",
   "execution_count": 149,
   "metadata": {},
   "outputs": [
    {
     "data": {
      "image/png": "[encoded data removed]",
      "text/plain": [
       "<Figure size 432x288 with 1 Axes>"
      ]
     },
     "metadata": {
      "needs_background": "light"
     },
     "output_type": "display_data"
    }
   ],
   "source": [
    "plot(results.v)\n",
    "decorate(xlabel='Time(s)',\n",
    "         ylabel='speed(m)')"
   ]
  },
  {
   "cell_type": "code",
   "execution_count": 150,
   "metadata": {},
   "outputs": [],
   "source": [
    "def Runge_Kuttax(state,system,slope_func,t):\n",
    "    y,v=state\n",
    "    dt=system.dt\n",
    "    f0,d0=slope_func(state,t,system)\n",
    "    def fun(t,f0):\n",
    "        fun=f0\n",
    "        return fun\n",
    "    k1=fun(t,f0)\n",
    "    k2=fun(t+dt/2,f0+dt*k1/2)\n",
    "    k3=fun(t+dt/2,f0+dt*k2/2)\n",
    "    k4=fun(t+dt,f0+dt*k3)\n",
    "    y1=y+dt/6*(k1+2*k2+2*k3+k4)\n",
    "    def fun1(t,d0):\n",
    "        fun=d0\n",
    "        return fun\n",
    "    k11=fun(t,d0)\n",
    "    k22=fun(t+dt/2,d0+dt*k11/2)\n",
    "    k33=fun(t+dt/2,d0+dt*k22/2)\n",
    "    k44=fun(t+dt,d0+dt*k33)\n",
    "    v1=v+dt/6*(k11+2*k22+2*k33+k44)\n",
    "    \n",
    "    \n",
    "    return State(y=y1 , v=v1)"
   ]
  },
  {
   "cell_type": "code",
   "execution_count": 151,
   "metadata": {},
   "outputs": [
    {
     "data": {
      "text/html": [
       "<div>\n",
       "<style scoped>\n",
       "    .dataframe tbody tr th:only-of-type {\n",
       "        vertical-align: middle;\n",
       "    }\n",
       "\n",
       "    .dataframe tbody tr th {\n",
       "        vertical-align: top;\n",
       "    }\n",
       "\n",
       "    .dataframe thead th {\n",
       "        text-align: right;\n",
       "    }\n",
       "</style>\n",
       "<table border=\"1\" class=\"dataframe\">\n",
       "  <thead>\n",
       "    <tr style=\"text-align: right;\">\n",
       "      <th></th>\n",
       "      <th>y</th>\n",
       "      <th>v</th>\n",
       "    </tr>\n",
       "  </thead>\n",
       "  <tbody>\n",
       "    <tr>\n",
       "      <th>0.00</th>\n",
       "      <td>0.0</td>\n",
       "      <td>500.0</td>\n",
       "    </tr>\n",
       "    <tr>\n",
       "      <th>0.01</th>\n",
       "      <td>0.0</td>\n",
       "      <td>500.0</td>\n",
       "    </tr>\n",
       "    <tr>\n",
       "      <th>0.02</th>\n",
       "      <td>0.0</td>\n",
       "      <td>500.0</td>\n",
       "    </tr>\n",
       "    <tr>\n",
       "      <th>0.03</th>\n",
       "      <td>0.0</td>\n",
       "      <td>500.0</td>\n",
       "    </tr>\n",
       "    <tr>\n",
       "      <th>0.04</th>\n",
       "      <td>0.0</td>\n",
       "      <td>500.0</td>\n",
       "    </tr>\n",
       "    <tr>\n",
       "      <th>...</th>\n",
       "      <td>...</td>\n",
       "      <td>...</td>\n",
       "    </tr>\n",
       "    <tr>\n",
       "      <th>5.96</th>\n",
       "      <td>0.0</td>\n",
       "      <td>500.0</td>\n",
       "    </tr>\n",
       "    <tr>\n",
       "      <th>5.97</th>\n",
       "      <td>0.0</td>\n",
       "      <td>500.0</td>\n",
       "    </tr>\n",
       "    <tr>\n",
       "      <th>5.98</th>\n",
       "      <td>0.0</td>\n",
       "      <td>500.0</td>\n",
       "    </tr>\n",
       "    <tr>\n",
       "      <th>5.99</th>\n",
       "      <td>0.0</td>\n",
       "      <td>500.0</td>\n",
       "    </tr>\n",
       "    <tr>\n",
       "      <th>6.00</th>\n",
       "      <td>0.0</td>\n",
       "      <td>500.0</td>\n",
       "    </tr>\n",
       "  </tbody>\n",
       "</table>\n",
       "<p>601 rows × 2 columns</p>\n",
       "</div>"
      ],
      "text/plain": [
       "        y      v\n",
       "0.00  0.0  500.0\n",
       "0.01  0.0  500.0\n",
       "0.02  0.0  500.0\n",
       "0.03  0.0  500.0\n",
       "0.04  0.0  500.0\n",
       "...   ...    ...\n",
       "5.96  0.0  500.0\n",
       "5.97  0.0  500.0\n",
       "5.98  0.0  500.0\n",
       "5.99  0.0  500.0\n",
       "6.00  0.0  500.0\n",
       "\n",
       "[601 rows x 2 columns]"
      ]
     },
     "execution_count": 151,
     "metadata": {},
     "output_type": "execute_result"
    }
   ],
   "source": [
    "resultsx = run_simulation(system_x, Runge_Kuttax,slope_func_x)"
   ]
  },
  {
   "cell_type": "code",
   "execution_count": 86,
   "metadata": {},
   "outputs": [
    {
     "data": {
      "image/png": "[encoded data removed]",
      "text/plain": [
       "<Figure size 432x288 with 1 Axes>"
      ]
     },
     "metadata": {
      "needs_background": "light"
     },
     "output_type": "display_data"
    }
   ],
   "source": [
    "plot(resultsx.y)\n",
    "decorate(xlabel='Time(s)',\n",
    "         ylabel='Height(m)')"
   ]
  },
  {
   "cell_type": "code",
   "execution_count": null,
   "metadata": {},
   "outputs": [],
   "source": []
  }
 ],
 "metadata": {
  "kernelspec": {
   "display_name": "Python 3",
   "language": "python",
   "name": "python3"
  },
  "language_info": {
   "codemirror_mode": {
    "name": "ipython",
    "version": 3
   },
   "file_extension": ".py",
   "mimetype": "text/x-python",
   "name": "python",
   "nbconvert_exporter": "python",
   "pygments_lexer": "ipython3",
   "version": "3.7.6"
  }
 },
 "nbformat": 4,
 "nbformat_minor": 4
}
